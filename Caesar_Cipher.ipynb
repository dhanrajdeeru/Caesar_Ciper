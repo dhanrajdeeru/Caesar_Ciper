{
 "cells": [
  {
   "cell_type": "code",
   "execution_count": 11,
   "metadata": {},
   "outputs": [
    {
     "name": "stdout",
     "output_type": "stream",
     "text": [
      "Enter a message: hi hello HOW ARE You\n",
      "\n",
      " String after encrypting : \n",
      "\n",
      "kl#khoor#KRZ#DUH#\\rx\n",
      " String after decrypting : \n",
      "\n",
      "hi hello HOW ARE You"
     ]
    }
   ],
   "source": [
    "string = input('Enter a message: ')\n",
    "shift=3\n",
    "var=[]\n",
    "# print(type(var))\n",
    "# encrypting the message\n",
    "for i in string:\n",
    "    # ord() is used to convert string to ascci value of a number\n",
    "    v = ord(i)\n",
    "    v = v + shift\n",
    "#     print(type(v))\n",
    "    var.append(v)\n",
    "print('\\n String after encrypting : \\n')\n",
    "for i in var:\n",
    "    # chr() is used to convert ascci value of a number to string\n",
    "    x = chr(i)\n",
    "    print(x,end=\"\")\n",
    "print('\\n String after decrypting : \\n')\n",
    "# decrytping the message\n",
    "for i in var:\n",
    "    y = i - shift\n",
    "    y = chr(y)\n",
    "    print(y,end=\"\")\n",
    "\n",
    "    "
   ]
  },
  {
   "cell_type": "code",
   "execution_count": 12,
   "metadata": {},
   "outputs": [
    {
     "name": "stdout",
     "output_type": "stream",
     "text": [
      "Enter a message : Is your number xxxxxx1234?\n",
      "\n",
      " String after encrypting : \n",
      "\n",
      "Lv#|rxu#qxpehu#{{{{{{4567B\n",
      " String after decrypting : \n",
      "\n",
      "Is your number xxxxxx1234?"
     ]
    }
   ],
   "source": [
    "# Same Code but Reduced few Lines\n",
    "string = input('Enter a message : ')\n",
    "var=[]\n",
    "# print(type(var))\n",
    "# encrypting the message\n",
    "for i in string:\n",
    "    # ord() is used to convert string to ascci value of a number\n",
    "    v = (ord(i)) + 3\n",
    "    var.append(v)\n",
    "print('\\n String after encrypting : \\n')\n",
    "for i in var:\n",
    "    # chr() is used to convert ascci value of a number to string\n",
    "    x = chr(i)\n",
    "    print(x,end=\"\")\n",
    "print('\\n String after decrypting : \\n')\n",
    "# decrytping the message\n",
    "for i in var:\n",
    "    y = chr (i - 3 )\n",
    "    print(y,end=\"\")\n"
   ]
  },
  {
   "cell_type": "code",
   "execution_count": null,
   "metadata": {},
   "outputs": [],
   "source": []
  }
 ],
 "metadata": {
  "kernelspec": {
   "display_name": "Python 3",
   "language": "python",
   "name": "python3"
  },
  "language_info": {
   "codemirror_mode": {
    "name": "ipython",
    "version": 3
   },
   "file_extension": ".py",
   "mimetype": "text/x-python",
   "name": "python",
   "nbconvert_exporter": "python",
   "pygments_lexer": "ipython3",
   "version": "3.8.5"
  }
 },
 "nbformat": 4,
 "nbformat_minor": 4
}
